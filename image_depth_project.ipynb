{
  "cells": [
    {
      "cell_type": "markdown",
      "metadata": {
        "id": "lxHj5Q64uOUM"
      },
      "source": [
        "# Image Depth Project"
      ]
    },
    {
      "cell_type": "code",
      "execution_count": 5,
      "metadata": {
        "id": "RXkdsFyq3off"
      },
      "outputs": [],
      "source": [
        "import cv2\n",
        "import numpy as np"
      ]
    },
    {
      "cell_type": "markdown",
      "metadata": {
        "id": "_mrR1O76wh_J"
      },
      "source": [
        "## 1. Pixel wise matching"
      ]
    },
    {
      "cell_type": "code",
      "execution_count": 6,
      "metadata": {
        "id": "Y3ORO28BuO15"
      },
      "outputs": [],
      "source": [
        "def distance(x, y, distance_type):\n",
        "    if distance_type == \"l1\":\n",
        "        return abs(x - y)\n",
        "    elif distance_type == \"l2\":\n",
        "        return (x - y)**2\n",
        "\n",
        "def pixel_wise_matching(left_img, right_img, disparity_range, distance_type, save_result = True):\n",
        "    # Read left, right images then convert to grayscale\n",
        "    left = cv2.imread(left_img, 0)\n",
        "    right = cv2.imread(right_img, 0)\n",
        "\n",
        "    left = left.astype(np.float32)\n",
        "    right = right.astype(np.float32)\n",
        "\n",
        "    height, width = left.shape\n",
        "\n",
        "    # Create blank disparity map\n",
        "    depth = np.zeros((height, width), np.uint8)\n",
        "    scale = 16\n",
        "    max_value = 255\n",
        "\n",
        "    for y in range(height):\n",
        "        for x in range(width):\n",
        "            # Find j where cost has minimum value in horizontal\n",
        "            disparity = 0\n",
        "            cost_min = max_value\n",
        "\n",
        "            for j in range(disparity_range):\n",
        "                cost = max_value if (x - j) < 0 else distance(int(left[y, x]), int(right[y, x - j]), distance_type)\n",
        "\n",
        "                if cost < cost_min :\n",
        "                    cost_min = cost\n",
        "                    disparity = j\n",
        "\n",
        "            # Multiply by a scale factor for visualization purpose\n",
        "            depth[y, x] = disparity * scale\n",
        "\n",
        "    if save_result == True :\n",
        "        print(\"Saving result...\")\n",
        "        # Save results\n",
        "        cv2.imwrite (f\"pixel_wise_{distance_type}.png\", depth)\n",
        "        cv2.imwrite (f\"pixel_wise_{distance_type}_color.png\", cv2.applyColorMap(depth, cv2.COLORMAP_JET))\n",
        "\n",
        "    print(\"Done.\")\n",
        "\n",
        "    return depth"
      ]
    },
    {
      "cell_type": "code",
      "execution_count": 7,
      "metadata": {
        "colab": {
          "base_uri": "https://localhost:8080/"
        },
        "id": "Tehr_Whuv-3O",
        "outputId": "f99cecf0-1c67-4a5c-982e-4c6864869a93"
      },
      "outputs": [
        {
          "name": "stdout",
          "output_type": "stream",
          "text": [
            "Saving result...\n",
            "Done.\n",
            "Saving result...\n",
            "Done.\n"
          ]
        }
      ],
      "source": [
        "left_img_path = \"tsukuba/left.png\"\n",
        "right_img_path = \"tsukuba/right.png\"\n",
        "disparity_range = 16\n",
        "\n",
        "# L1\n",
        "pixel_wise_result_l1 = pixel_wise_matching(left_img_path, right_img_path, disparity_range, \"l1\", save_result = True)\n",
        "\n",
        "# L2\n",
        "pixel_wise_result_l2 = pixel_wise_matching(left_img_path, right_img_path, disparity_range, \"l2\", save_result = True)"
      ]
    },
    {
      "cell_type": "markdown",
      "metadata": {
        "id": "_5ZgaFxXwm55"
      },
      "source": [
        "## 2. Window based matching"
      ]
    },
    {
      "cell_type": "code",
      "execution_count": 9,
      "metadata": {
        "id": "ajdtWJP-wapl"
      },
      "outputs": [],
      "source": [
        "def window_based_matching(left_img, right_img, disparity_range, distance_type, kernel_size = 5, save_result = True):\n",
        "    # Read left , right images then convert to grayscale\n",
        "    left = cv2.imread(left_img, 0)\n",
        "    right = cv2.imread(right_img, 0)\n",
        "\n",
        "    left = left.astype(np.float32)\n",
        "    right = right.astype(np.float32)\n",
        "\n",
        "    height, width = left.shape\n",
        "\n",
        "    # Create blank disparity map\n",
        "    depth = np.zeros((height, width ), np.uint8)\n",
        "\n",
        "    kernel_half = int((kernel_size - 1) / 2)\n",
        "    scale = 3\n",
        "    max_value = 255 * 9\n",
        "\n",
        "    for y in range(kernel_half, height - kernel_half):\n",
        "        for x in range(kernel_half, width - kernel_half):\n",
        "            # Find j where cost has minimum value\n",
        "            disparity = 0\n",
        "            cost_min = 65534\n",
        "\n",
        "            for j in range(disparity_range):\n",
        "                total = 0\n",
        "                value = 0\n",
        "\n",
        "                for v in range(-kernel_half, kernel_half + 1):\n",
        "                    for u in range (-kernel_half, kernel_half + 1):\n",
        "                        value = max_value\n",
        "                        if (x + u - j) >= 0:\n",
        "                            value = distance(int(left[y + v, x + u]), int(right[y + v, (x + u) - j]), distance_type)\n",
        "                            total += value\n",
        "\n",
        "                if total < cost_min:\n",
        "                    cost_min = total\n",
        "                    disparity = j\n",
        "\n",
        "            # Multiply by a scale factor for visualization purpose\n",
        "            depth[y, x] = disparity * scale\n",
        "\n",
        "    if save_result == True :\n",
        "        print(\"Saving result...\")\n",
        "        # Save results\n",
        "        cv2.imwrite(f\"window_based_{distance_type}.png\", depth)\n",
        "        cv2.imwrite(f\"window_based_{distance_type}_color.png\", cv2.applyColorMap(depth, cv2.COLORMAP_JET))\n",
        "\n",
        "    print(\"Done.\")\n",
        "\n",
        "    return depth"
      ]
    },
    {
      "cell_type": "code",
      "execution_count": 10,
      "metadata": {
        "colab": {
          "base_uri": "https://localhost:8080/"
        },
        "id": "R_KfhLTPzHyr",
        "outputId": "3f16396c-ff63-45a5-ebca-bb4fcf7204b6"
      },
      "outputs": [
        {
          "name": "stdout",
          "output_type": "stream",
          "text": [
            "Saving result...\n",
            "Done.\n",
            "Saving result...\n",
            "Done.\n"
          ]
        }
      ],
      "source": [
        "left_img_path = \"Aloe/Aloe_left_1.png\"\n",
        "right_img_path = \"Aloe/Aloe_right_1.png\"\n",
        "disparity_range = 64\n",
        "kernel_size = 3\n",
        "\n",
        "# L1\n",
        "pixel_wise_result_l1 = window_based_matching(left_img_path, right_img_path, disparity_range, \"l1\", kernel_size = kernel_size, save_result = True)\n",
        "\n",
        "# L2\n",
        "pixel_wise_result_l2 = window_based_matching(left_img_path, right_img_path, disparity_range, \"l2\", kernel_size = kernel_size , save_result = True)"
      ]
    },
    {
      "cell_type": "markdown",
      "metadata": {
        "id": "pJDoWkxY02uu"
      },
      "source": [
        "## 3. Window based matching with different brightness"
      ]
    },
    {
      "cell_type": "code",
      "execution_count": 13,
      "metadata": {
        "id": "L4voh0G_0_Vd"
      },
      "outputs": [],
      "source": [
        "def cosine_similarity(x, y):\n",
        "    numerator = np.dot(x, y)\n",
        "    denominator = np.linalg.norm(x) * np.linalg.norm(y)\n",
        "\n",
        "    return numerator / denominator\n",
        "\n",
        "def window_based_matching_different_brightness(left_img, right_img, disparity_range, kernel_size = 5, img_type = \"high\", save_result = True):\n",
        "    # Read left , right images then convert to grayscale\n",
        "    left = cv2.imread(left_img, 0)\n",
        "    right = cv2.imread(right_img, 0)\n",
        "\n",
        "    left = left.astype(np.float32)\n",
        "    right = right.astype(np.float32)\n",
        "\n",
        "    height, width = left.shape\n",
        "\n",
        "    # Create blank disparity map\n",
        "    depth = np.zeros((height, width), np.uint8)\n",
        "    kernel_half = int((kernel_size - 1) / 2)\n",
        "    scale = 3\n",
        "\n",
        "    for y in range(kernel_half, height - kernel_half):\n",
        "        for x in range(kernel_half, width - kernel_half):\n",
        "            # Find j where cost has minimum value\n",
        "            disparity = 0\n",
        "            cost_optimal = -1\n",
        "\n",
        "            for j in range(disparity_range):\n",
        "                d = x - j\n",
        "                cost = -1\n",
        "                if (d - kernel_half) > 0:\n",
        "                    wp = left[(y - kernel_half):(y + kernel_half) + 1, (x - kernel_half):(x + kernel_half) + 1]\n",
        "                    wqd = right[(y - kernel_half):(y + kernel_half) + 1, (d - kernel_half):(d + kernel_half) + 1]\n",
        "\n",
        "                    wp_flattened = wp.flatten()\n",
        "                    wqd_flattened = wqd .flatten()\n",
        "\n",
        "                    cost = cosine_similarity(wp_flattened, wqd_flattened)\n",
        "\n",
        "                if cost > cost_optimal:\n",
        "                    cost_optimal = cost\n",
        "                    disparity = j\n",
        "\n",
        "            # Multiply by a scale factor for visualization purpose\n",
        "            depth[y, x] = disparity * scale\n",
        "\n",
        "    if save_result == True :\n",
        "        print(\"Saving result...\")\n",
        "        # Save results\n",
        "        cv2.imwrite(f\"window_based_cosine_similarity_{img_type}_brightness.png\", depth)\n",
        "        cv2.imwrite(f\"window_based_cosine_similarity_color_{img_type}_brightness.png\", cv2.applyColorMap(depth, cv2.COLORMAP_JET))\n",
        "\n",
        "    print(\"Done.\")\n",
        "\n",
        "    return depth"
      ]
    },
    {
      "cell_type": "code",
      "execution_count": 14,
      "metadata": {
        "colab": {
          "base_uri": "https://localhost:8080/"
        },
        "id": "XUdOKCeS2fWy",
        "outputId": "b41b6fcf-6dac-4f87-e288-190569b58aaa"
      },
      "outputs": [
        {
          "name": "stdout",
          "output_type": "stream",
          "text": [
            "Saving result...\n",
            "Done.\n"
          ]
        }
      ],
      "source": [
        "# High brightness\n",
        "left_img_path = \"Aloe/Aloe_left_1.png\"\n",
        "right_img_path = \"Aloe/Aloe_right_2.png\"\n",
        "disparity_range = 64\n",
        "kernel_size = 3\n",
        "\n",
        "# Cosine similarity\n",
        "pixel_wise_result_cosine = window_based_matching_different_brightness(left_img_path, right_img_path, disparity_range, kernel_size = kernel_size, img_type = \"high\", save_result = True)"
      ]
    },
    {
      "cell_type": "code",
      "execution_count": 15,
      "metadata": {
        "colab": {
          "base_uri": "https://localhost:8080/"
        },
        "id": "q7woLTzW5g2e",
        "outputId": "2ea9d4b3-c9e3-4bf1-94b0-85c629a84e93"
      },
      "outputs": [
        {
          "name": "stdout",
          "output_type": "stream",
          "text": [
            "Saving result...\n",
            "Done.\n"
          ]
        }
      ],
      "source": [
        "# Low brightness\n",
        "left_img_path = \"Aloe/Aloe_left_1.png\"\n",
        "right_img_path = \"Aloe/Aloe_right_3.png\"\n",
        "disparity_range = 64\n",
        "kernel_size = 3\n",
        "\n",
        "# Cosine similarity\n",
        "pixel_wise_result_cosine = window_based_matching_different_brightness(left_img_path, right_img_path, disparity_range, kernel_size = kernel_size, img_type = \"low\", save_result = True)"
      ]
    }
  ],
  "metadata": {
    "colab": {
      "provenance": []
    },
    "kernelspec": {
      "display_name": "Python 3",
      "name": "python3"
    },
    "language_info": {
      "name": "python"
    }
  },
  "nbformat": 4,
  "nbformat_minor": 0
}
